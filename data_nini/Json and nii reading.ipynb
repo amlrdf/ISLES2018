{
 "cells": [
  {
   "cell_type": "code",
   "execution_count": 1,
   "metadata": {},
   "outputs": [
    {
     "name": "stderr",
     "output_type": "stream",
     "text": [
      "/Users/xinwang/anaconda3/lib/python3.6/site-packages/h5py/__init__.py:36: FutureWarning: Conversion of the second argument of issubdtype from `float` to `np.floating` is deprecated. In future, it will be treated as `np.float64 == np.dtype(float).type`.\n",
      "  from ._conv import register_converters as _register_converters\n"
     ]
    }
   ],
   "source": [
    "import nilearn\n",
    "from nilearn import plotting\n"
   ]
  },
  {
   "cell_type": "code",
   "execution_count": 6,
   "metadata": {},
   "outputs": [
    {
     "name": "stdout",
     "output_type": "stream",
     "text": [
      "/Users/xinwang/PycharmProjects/ISLES2018/data_nini\n"
     ]
    }
   ],
   "source": [
    "cd /Users/xinwang/PycharmProjects/ISLES2018/data_nini/\n"
   ]
  },
  {
   "cell_type": "code",
   "execution_count": 7,
   "metadata": {},
   "outputs": [
    {
     "name": "stdout",
     "output_type": "stream",
     "text": [
      "Json and nii reading.ipynb            SMIR-Copy1.Brain.XX.O.CT.345562.nii\r\n",
      "SMIR-Copy1.Brain.XX.O.CT.345562.json  nifti1diagrams.pdf\r\n"
     ]
    }
   ],
   "source": [
    "ls"
   ]
  },
  {
   "cell_type": "code",
   "execution_count": 8,
   "metadata": {},
   "outputs": [
    {
     "name": "stdout",
     "output_type": "stream",
     "text": [
      "{'createdDate': '2018-07-03T13:31:25.8630000Z',\n",
      " 'description': 'ISLES 2018 - TRAIN - Train_01_A - CT',\n",
      " 'downloadUrl': 'https://www.smir.ch/api/objects/345562/download',\n",
      " 'files': {'items': [{'selfUrl': 'https://www.smir.ch/api/files/1188348'}],\n",
      "           'nextPageUrl': None,\n",
      "           'pagination': {'page': 0, 'rpp': 25},\n",
      "           'totalCount': 1},\n",
      " 'id': 345562,\n",
      " 'license': {'selfUrl': 'https://www.smir.ch/api/licenses/8'},\n",
      " 'linkedObjectRelations': {'items': [{'selfUrl': 'https://www.smir.ch/api/object-links/1690136'},\n",
      "                                     {'selfUrl': 'https://www.smir.ch/api/object-links/1690781'},\n",
      "                                     {'selfUrl': 'https://www.smir.ch/api/object-links/1690787'},\n",
      "                                     {'selfUrl': 'https://www.smir.ch/api/object-links/1690788'},\n",
      "                                     {'selfUrl': 'https://www.smir.ch/api/object-links/1690789'},\n",
      "                                     {'selfUrl': 'https://www.smir.ch/api/object-links/1690790'},\n",
      "                                     {'selfUrl': 'https://www.smir.ch/api/object-links/1690791'},\n",
      "                                     {'selfUrl': 'https://www.smir.ch/api/object-links/1702943'},\n",
      "                                     {'selfUrl': 'https://www.smir.ch/api/object-links/1703139'},\n",
      "                                     {'selfUrl': 'https://www.smir.ch/api/object-links/1703160'},\n",
      "                                     {'selfUrl': 'https://www.smir.ch/api/object-links/1703259'},\n",
      "                                     {'selfUrl': 'https://www.smir.ch/api/object-links/1704117'},\n",
      "                                     {'selfUrl': 'https://www.smir.ch/api/object-links/1706070'},\n",
      "                                     {'selfUrl': 'https://www.smir.ch/api/object-links/1706161'},\n",
      "                                     {'selfUrl': 'https://www.smir.ch/api/object-links/1706203'},\n",
      "                                     {'selfUrl': 'https://www.smir.ch/api/object-links/1706210'},\n",
      "                                     {'selfUrl': 'https://www.smir.ch/api/object-links/1706238'},\n",
      "                                     {'selfUrl': 'https://www.smir.ch/api/object-links/1706245'},\n",
      "                                     {'selfUrl': 'https://www.smir.ch/api/object-links/1706364'},\n",
      "                                     {'selfUrl': 'https://www.smir.ch/api/object-links/1706469'},\n",
      "                                     {'selfUrl': 'https://www.smir.ch/api/object-links/1706504'},\n",
      "                                     {'selfUrl': 'https://www.smir.ch/api/object-links/1706616'},\n",
      "                                     {'selfUrl': 'https://www.smir.ch/api/object-links/1707729'},\n",
      "                                     {'selfUrl': 'https://www.smir.ch/api/object-links/1708709'},\n",
      "                                     {'selfUrl': 'https://www.smir.ch/api/object-links/1709441'}],\n",
      "                           'nextPageUrl': 'https://www.smir.ch/api/objects/345562/object-links?rpp=25&page=1',\n",
      "                           'pagination': {'page': 0, 'rpp': 25},\n",
      "                           'totalCount': 38},\n",
      " 'linkedObjects': {'items': [{'selfUrl': 'https://www.smir.ch/api/objects/79157'},\n",
      "                             {'selfUrl': 'https://www.smir.ch/api/objects/345561'},\n",
      "                             {'selfUrl': 'https://www.smir.ch/api/objects/345563'},\n",
      "                             {'selfUrl': 'https://www.smir.ch/api/objects/345564'},\n",
      "                             {'selfUrl': 'https://www.smir.ch/api/objects/345565'},\n",
      "                             {'selfUrl': 'https://www.smir.ch/api/objects/345566'},\n",
      "                             {'selfUrl': 'https://www.smir.ch/api/objects/345567'},\n",
      "                             {'selfUrl': 'https://www.smir.ch/api/objects/348224'},\n",
      "                             {'selfUrl': 'https://www.smir.ch/api/objects/348252'},\n",
      "                             {'selfUrl': 'https://www.smir.ch/api/objects/348255'},\n",
      "                             {'selfUrl': 'https://www.smir.ch/api/objects/348276'},\n",
      "                             {'selfUrl': 'https://www.smir.ch/api/objects/348434'},\n",
      "                             {'selfUrl': 'https://www.smir.ch/api/objects/348785'},\n",
      "                             {'selfUrl': 'https://www.smir.ch/api/objects/348798'},\n",
      "                             {'selfUrl': 'https://www.smir.ch/api/objects/348804'},\n",
      "                             {'selfUrl': 'https://www.smir.ch/api/objects/348805'},\n",
      "                             {'selfUrl': 'https://www.smir.ch/api/objects/348809'},\n",
      "                             {'selfUrl': 'https://www.smir.ch/api/objects/348810'},\n",
      "                             {'selfUrl': 'https://www.smir.ch/api/objects/348827'},\n",
      "                             {'selfUrl': 'https://www.smir.ch/api/objects/348842'},\n",
      "                             {'selfUrl': 'https://www.smir.ch/api/objects/348847'},\n",
      "                             {'selfUrl': 'https://www.smir.ch/api/objects/348863'},\n",
      "                             {'selfUrl': 'https://www.smir.ch/api/objects/349054'},\n",
      "                             {'selfUrl': 'https://www.smir.ch/api/objects/349240'},\n",
      "                             {'selfUrl': 'https://www.smir.ch/api/objects/349352'}],\n",
      "                   'nextPageUrl': 'https://www.smir.ch/api/objects/345562/objects?rpp=25&page=1',\n",
      "                   'pagination': {'page': 0, 'rpp': 25},\n",
      "                   'totalCount': 38},\n",
      " 'name': 'SMIR.Brain.XX.O.CT.345562.000.nii',\n",
      " 'objectGroupRights': [{'selfUrl': 'https://www.smir.ch/api/object-group-rights/561748'},\n",
      "                       {'selfUrl': 'https://www.smir.ch/api/object-group-rights/561749'},\n",
      "                       {'selfUrl': 'https://www.smir.ch/api/object-group-rights/561750'}],\n",
      " 'objectPreviews': [{'selfUrl': 'https://www.smir.ch/api/objects/345562/previews/0'},\n",
      "                    {'selfUrl': 'https://www.smir.ch/api/objects/345562/previews/1'},\n",
      "                    {'selfUrl': 'https://www.smir.ch/api/objects/345562/previews/2'},\n",
      "                    {'selfUrl': 'https://www.smir.ch/api/objects/345562/previews/3'},\n",
      "                    {'selfUrl': 'https://www.smir.ch/api/objects/345562/previews/4'},\n",
      "                    {'selfUrl': 'https://www.smir.ch/api/objects/345562/previews/5'}],\n",
      " 'objectUserRights': None,\n",
      " 'ontologyCount': 1,\n",
      " 'ontologyItemRelations': {'items': [{'selfUrl': 'https://www.smir.ch/api/object-ontologies/0/781427'}],\n",
      "                           'nextPageUrl': None,\n",
      "                           'pagination': {'page': 0, 'rpp': 25},\n",
      "                           'totalCount': 1},\n",
      " 'ontologyItems': {'items': [{'selfUrl': 'https://www.smir.ch/api/ontologies/0/50801'}],\n",
      "                   'nextPageUrl': None,\n",
      "                   'pagination': {'page': 0, 'rpp': 25},\n",
      "                   'totalCount': 1},\n",
      " 'rawImage': {'kilovoltPeak': None,\n",
      "              'modality': {'description': 'Computed Tomography',\n",
      "                           'id': 3,\n",
      "                           'name': 'CT',\n",
      "                           'selfUrl': 'https://www.smir.ch/api/modalities/3'},\n",
      "              'sliceThickness': None,\n",
      "              'spaceBetweenSlices': None},\n",
      " 'selfUrl': 'https://www.smir.ch/api/objects/345562',\n",
      " 'subjectSnapshot': {'ageInDays': None,\n",
      "                     'dominance': {'description': 'Not Specified',\n",
      "                                   'id': 1,\n",
      "                                   'name': 'NS',\n",
      "                                   'selfUrl': 'https://www.smir.ch/api/dominances/1'},\n",
      "                     'gender': {'description': 'Other',\n",
      "                                'id': 1,\n",
      "                                'name': 'O',\n",
      "                                'selfUrl': 'https://www.smir.ch/api/genders/1'},\n",
      "                     'heightInMeters': None,\n",
      "                     'weightInKilograms': None},\n",
      " 'type': {'displayName': 'Raw Image',\n",
      "          'displayNameShort': 'RAW',\n",
      "          'name': 'RawImage',\n",
      "          'selfUrl': 'https://www.smir.ch/api/object_types/RawImage'}}\n"
     ]
    }
   ],
   "source": [
    "import json\n",
    "from pprint import pprint\n",
    "\n",
    "with open('SMIR-Copy1.Brain.XX.O.CT.345562.json') as data_file:    \n",
    "    data = json.load(data_file)\n",
    "pprint(data)"
   ]
  },
  {
   "cell_type": "code",
   "execution_count": 9,
   "metadata": {},
   "outputs": [
    {
     "data": {
      "image/png": "[encoded data removed]",
      "text/plain": [
       "<Figure size 525.6x187.2 with 5 Axes>"
      ]
     },
     "metadata": {},
     "output_type": "display_data"
    }
   ],
   "source": [
    "\n",
    "smooth_anat_img = plotting.plot_stat_map(\"SMIR-Copy1.Brain.XX.O.CT.345562.nii\")\n"
   ]
  },
  {
   "cell_type": "code",
   "execution_count": 10,
   "metadata": {},
   "outputs": [
    {
     "name": "stdout",
     "output_type": "stream",
     "text": [
      "First anatomical nifti image (3D) located is at: /Users/xinwang/nilearn_data/haxby2001/subj2/anat.nii.gz\n",
      "First functional nifti image (4D) is located at: /Users/xinwang/nilearn_data/haxby2001/subj2/bold.nii.gz\n"
     ]
    }
   ],
   "source": [
    "from nilearn import datasets\n",
    "\n",
    "# By default 2nd subject will be fetched\n",
    "haxby_dataset = datasets.fetch_haxby()\n",
    "\n",
    "# print basic information on the dataset\n",
    "print('First anatomical nifti image (3D) located is at: %s' %\n",
    "      haxby_dataset.anat[0])\n",
    "print('First functional nifti image (4D) is located at: %s' %\n",
    "      haxby_dataset.func[0])"
   ]
  },
  {
   "cell_type": "code",
   "execution_count": null,
   "metadata": {},
   "outputs": [],
   "source": []
  },
  {
   "cell_type": "code",
   "execution_count": 44,
   "metadata": {},
   "outputs": [
    {
     "data": {
      "text/plain": [
       "<nilearn.plotting.displays.OrthoSlicer at 0x1c18bca828>"
      ]
     },
     "execution_count": 44,
     "metadata": {},
     "output_type": "execute_result"
    },
    {
     "data": {
      "image/png": "[encoded data removed]",
      "text/plain": [
       "<Figure size 475.2x187.2 with 4 Axes>"
      ]
     },
     "metadata": {},
     "output_type": "display_data"
    }
   ],
   "source": [
    "from nilearn.image.image import mean_img\n",
    "\n",
    "# Compute the mean EPI: we do the mean along the axis 3, which is time\n",
    "func_filename = haxby_dataset.func[0]\n",
    "mean_haxby = mean_img(\"SMIR-Copy1.Brain.XX.O.CT.345562.nii\")\n",
    "\n",
    "from nilearn.plotting import plot_epi, show\n",
    "plot_epi(mean_haxby)"
   ]
  },
  {
   "cell_type": "code",
   "execution_count": 12,
   "metadata": {},
   "outputs": [
    {
     "data": {
      "text/plain": [
       "<nilearn.plotting.displays.OrthoSlicer at 0x108b27cf8>"
      ]
     },
     "execution_count": 12,
     "metadata": {},
     "output_type": "execute_result"
    },
    {
     "data": {
      "image/png": "[encoded data removed]",
      "text/plain": [
       "<Figure size 475.2x187.2 with 4 Axes>"
      ]
     },
     "metadata": {},
     "output_type": "display_data"
    }
   ],
   "source": [
    "from nilearn.plotting import plot_epi, show\n",
    "plotting.plot_epi(\"SMIR-Copy1.Brain.XX.O.CT.345562.nii\")"
   ]
  },
  {
   "cell_type": "code",
   "execution_count": 13,
   "metadata": {},
   "outputs": [],
   "source": [
    "import os\n",
    "import numpy as np"
   ]
  },
  {
   "cell_type": "code",
   "execution_count": 14,
   "metadata": {},
   "outputs": [],
   "source": [
    "from nibabel.testing import data_path"
   ]
  },
  {
   "cell_type": "code",
   "execution_count": 15,
   "metadata": {},
   "outputs": [],
   "source": [
    "example1_filename = os.path.join(data_path,\"SMIR-Copy1.Brain.XX.O.CT.345562.nii\")"
   ]
  },
  {
   "cell_type": "code",
   "execution_count": 16,
   "metadata": {},
   "outputs": [],
   "source": [
    "import nibabel as nib\n",
    "img=nib.load(\"SMIR-Copy1.Brain.XX.O.CT.345562.nii\")"
   ]
  },
  {
   "cell_type": "code",
   "execution_count": 27,
   "metadata": {},
   "outputs": [],
   "source": [
    "from pprint import pprint"
   ]
  },
  {
   "cell_type": "code",
   "execution_count": 46,
   "metadata": {},
   "outputs": [
    {
     "name": "stdout",
     "output_type": "stream",
     "text": [
      "array([[1., 0., 0., 0.],\n",
      "       [0., 1., 0., 0.],\n",
      "       [0., 0., 1., 0.],\n",
      "       [0., 0., 0., 1.]])\n",
      "<nibabel.nifti1.Nifti1Header object at 0x1c1679c978>\n",
      "(256, 256, 8)\n",
      "dtype('<i4')\n",
      "dtype('<i4')\n",
      "(256, 256, 8)\n",
      "(0.976562, 0.976562, 5.0003)\n"
     ]
    }
   ],
   "source": [
    "img_array = img.get_data() #get image data array\n",
    "affine_array = img.affine #get the affine array\n",
    "pprint(affine_array)\n",
    "img_head = img.header; #get image metadata\n",
    "pprint(img_head)\n",
    "#other info extration\n",
    "img.shape\n",
    "pprint(img.shape)\n",
    "img.get_data_dtype() \n",
    "pprint(img.get_data_dtype())\n",
    "img_head.get_data_dtype() \n",
    "pprint(img_head.get_data_dtype())\n",
    "pprint(img_head.get_data_shape()) \n",
    "pprint(img_head.get_zooms()) \n"
   ]
  },
  {
   "cell_type": "code",
   "execution_count": 48,
   "metadata": {},
   "outputs": [
    {
     "name": "stdout",
     "output_type": "stream",
     "text": [
      "<class 'nibabel.nifti1.Nifti1Header'> object, endian='<'\n",
      "sizeof_hdr      : 348\n",
      "data_type       : b''\n",
      "db_name         : b''\n",
      "extents         : 0\n",
      "session_error   : 0\n",
      "regular         : b''\n",
      "dim_info        : 0\n",
      "dim             : [  3 256 256   8   1   1   1   1]\n",
      "intent_p1       : 0.0\n",
      "intent_p2       : 0.0\n",
      "intent_p3       : 0.0\n",
      "intent_code     : none\n",
      "datatype        : int32\n",
      "bitpix          : 32\n",
      "slice_start     : 0\n",
      "pixdim          : [-1.        0.976562  0.976562  5.0003    1.        1.        1.\n",
      "  1.      ]\n",
      "vox_offset      : 0.0\n",
      "scl_slope       : nan\n",
      "scl_inter       : nan\n",
      "slice_end       : 0\n",
      "slice_code      : unknown\n",
      "xyzt_units      : 0\n",
      "cal_max         : 0.0\n",
      "cal_min         : 0.0\n",
      "slice_duration  : 0.0\n",
      "toffset         : 0.0\n",
      "glmax           : 0\n",
      "glmin           : 0\n",
      "descrip         : b''\n",
      "aux_file        : b''\n",
      "qform_code      : unknown\n",
      "sform_code      : aligned\n",
      "quatern_b       : 0.0\n",
      "quatern_c       : 0.0\n",
      "quatern_d       : 0.0\n",
      "qoffset_x       : 0.0\n",
      "qoffset_y       : 0.0\n",
      "qoffset_z       : 0.0\n",
      "srow_x          : [1. 0. 0. 0.]\n",
      "srow_y          : [0. 1. 0. 0.]\n",
      "srow_z          : [0. 0. 1. 0.]\n",
      "intent_name     : b''\n",
      "magic           : b'n+1'\n"
     ]
    }
   ],
   "source": [
    "print(img_head)"
   ]
  },
  {
   "cell_type": "code",
   "execution_count": 49,
   "metadata": {},
   "outputs": [
    {
     "name": "stdout",
     "output_type": "stream",
     "text": [
      "[[1. 0. 0. 0.]\n",
      " [0. 1. 0. 0.]\n",
      " [0. 0. 1. 0.]\n",
      " [0. 0. 0. 1.]]\n"
     ]
    }
   ],
   "source": [
    "print(affine_array)"
   ]
  },
  {
   "cell_type": "code",
   "execution_count": 52,
   "metadata": {},
   "outputs": [
    {
     "name": "stdout",
     "output_type": "stream",
     "text": [
      "(256, 256, 8)\n"
     ]
    }
   ],
   "source": [
    "print(img_array.shape)"
   ]
  },
  {
   "cell_type": "code",
   "execution_count": null,
   "metadata": {},
   "outputs": [],
   "source": []
  }
 ],
 "metadata": {
  "kernelspec": {
   "display_name": "Python 3",
   "language": "python",
   "name": "python3"
  },
  "language_info": {
   "codemirror_mode": {
    "name": "ipython",
    "version": 3
   },
   "file_extension": ".py",
   "mimetype": "text/x-python",
   "name": "python",
   "nbconvert_exporter": "python",
   "pygments_lexer": "ipython3",
   "version": "3.6.5"
  }
 },
 "nbformat": 4,
 "nbformat_minor": 1
}
